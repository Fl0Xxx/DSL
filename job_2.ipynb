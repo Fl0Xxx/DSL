{
  "nbformat": 4,
  "nbformat_minor": 0,
  "metadata": {
    "colab": {
      "name": "job #2.ipynb",
      "provenance": [],
      "authorship_tag": "ABX9TyPI1imsYPULvBkXvLhV6IfZ",
      "include_colab_link": true
    },
    "kernelspec": {
      "name": "python3",
      "display_name": "Python 3"
    },
    "language_info": {
      "name": "python"
    }
  },
  "cells": [
    {
      "cell_type": "markdown",
      "metadata": {
        "id": "view-in-github",
        "colab_type": "text"
      },
      "source": [
        "<a href=\"https://colab.research.google.com/github/Fl0Xxx/DSL/blob/main/job_2.ipynb\" target=\"_parent\"><img src=\"https://colab.research.google.com/assets/colab-badge.svg\" alt=\"Open In Colab\"/></a>"
      ]
    },
    {
      "cell_type": "markdown",
      "metadata": {
        "id": "B3UzOxr6vyfB"
      },
      "source": [
        "Suppose that context-free grammar is represented by a dictionary:\n",
        "\n",
        "{'toks': set(token), 'vars': dict(var: definition), 'hvar': var}\n",
        "\n",
        "token : (class, value)\n",
        "\n",
        "class : int\n",
        "\n",
        "value : str\n",
        "\n",
        "var : str                 # name of non-terminal\n",
        "\n",
        "definition : list(rule)\n",
        "\n",
        "rule : list(var | token)  # right part of the rule\n"
      ]
    },
    {
      "cell_type": "markdown",
      "metadata": {
        "id": "UEu-nXuW4pmJ"
      },
      "source": [
        "The \"not_existing_search\" character function takes a grammar dictionary as an argument. Next, the function searches for non-existent symbols in grammar variables, and adds them to the list \"not_existing_symbols\" in a loop."
      ]
    },
    {
      "cell_type": "code",
      "metadata": {
        "id": "nLqBNuqE4qWH"
      },
      "source": [
        "def not_existing_search(grammar): \n",
        "    not_existing_symbols = list()\n",
        "    flag = True\n",
        "    while flag:\n",
        "        flag = False\n",
        "        for non_terminals, definitions in grammar['vars'].items():\n",
        "            for rule in definitions:\n",
        "                if check_rule(rule, grammar['toks'], not_existing_symbols):\n",
        "                    if non_terminals not in not_existing_symbols:\n",
        "                        not_existing_symbols.append(non_terminals)\n",
        "                        flag = True\n",
        "    return not_existing_symbols"
      ],
      "execution_count": null,
      "outputs": []
    },
    {
      "cell_type": "markdown",
      "metadata": {
        "id": "FWdPrIJU4ssl"
      },
      "source": [
        "Nonterminals and their associated rules are passed in a loop. If the non-terminal is not a third-party, it remains and is added to the new dictionary if it is not there and if the foreign terminal is ignored. If the rule contains third-party non-terminals, it is rejected."
      ]
    },
    {
      "cell_type": "code",
      "metadata": {
        "id": "g5iXML5k5RTU"
      },
      "source": [
        "import copy\n",
        "def non_terminal_remove(grammar):\n",
        "    not_existing_symbols = not_existing_search(grammar)\n",
        "    grammar = deepcopy(grammar)\n",
        "    new_vars = dict()\n",
        "    for non_terminals, definitions in grammar['vars'].items():\n",
        "        if non_terminals in not_existing_symbols:\n",
        "            for rules in definitions:\n",
        "                if check_rule(rules, grammar['toks'], not_existing_symbols):\n",
        "                    if non_terminals in new_vars.keys():\n",
        "                        new_vars[non_terminals].append(rules)\n",
        "                    else:\n",
        "                        new_vars[non_terminals] = list()\n",
        "                        new_vars[non_terminals].append(rules)"
      ],
      "execution_count": null,
      "outputs": []
    },
    {
      "cell_type": "markdown",
      "metadata": {
        "id": "tm7U16xc5X-q"
      },
      "source": [
        "Function that validates the rule."
      ]
    },
    {
      "cell_type": "code",
      "metadata": {
        "id": "ByvYq-mu52-7"
      },
      "source": [
        "def check_rule(rule, tokens, _list):\n",
        "    for partOfRule in rule:\n",
        "        if partOfRule in tokens or partOfRule in _list:\n",
        "            pass\n",
        "        else:\n",
        "            return False\n",
        "    return True\n"
      ],
      "execution_count": null,
      "outputs": []
    },
    {
      "cell_type": "markdown",
      "metadata": {
        "id": "UIUY2CjU5_aQ"
      },
      "source": [
        "Example:"
      ]
    },
    {
      "cell_type": "code",
      "metadata": {
        "id": "nCrKukqr6DWJ"
      },
      "source": [
        "grammar = {\n",
        "    'toks': set ([\n",
        "        (0, 'a'),\n",
        "        (1, 'b'),\n",
        "        (2, 'c')\n",
        "    ]),\n",
        "    'vars': {\n",
        "        'A': [     \n",
        "              [(0, 'a'), 'A'],\n",
        "              ['B']\n",
        "        ],\n",
        "        'B': [\n",
        "              [(1, 'b')],\n",
        "        ],\n",
        "        'C': [\n",
        "              ['C', 'D']\n",
        "        ],\n",
        "        'D': [\n",
        "              [(1, 'b')]\n",
        "        ]\n",
        "    },\n",
        "    'hvar': 'A'\n",
        "}\n",
        "\n",
        "non_terminal_remove(grammar)\n",
        "print(grammar)"
      ],
      "execution_count": null,
      "outputs": []
    },
    {
      "cell_type": "code",
      "metadata": {
        "id": "oLdwydhW6POo"
      },
      "source": [
        "{'toks': {(2, 'c'), (0, 'a'), (1, 'b')}, 'vars': {'A': [[(0, 'a'), 'A'], ['B']], 'B': [[(1, 'b')]], 'C': [['C', 'D']], 'D': [[(1, 'b')]]}, 'hvar': 'A'}"
      ],
      "execution_count": null,
      "outputs": []
    }
  ]
}