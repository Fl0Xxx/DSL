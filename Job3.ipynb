{
  "nbformat": 4,
  "nbformat_minor": 0,
  "metadata": {
    "colab": {
      "name": "Job3.ipynb",
      "provenance": [],
      "authorship_tag": "ABX9TyP/oY/uNQ7WtUPdSD9EW4Ms",
      "include_colab_link": true
    },
    "kernelspec": {
      "name": "python3",
      "display_name": "Python 3"
    },
    "language_info": {
      "name": "python"
    }
  },
  "cells": [
    {
      "cell_type": "markdown",
      "metadata": {
        "id": "view-in-github",
        "colab_type": "text"
      },
      "source": [
        "<a href=\"https://colab.research.google.com/github/Fl0Xxx/DSL/blob/main/Job3.ipynb\" target=\"_parent\"><img src=\"https://colab.research.google.com/assets/colab-badge.svg\" alt=\"Open In Colab\"/></a>"
      ]
    },
    {
      "cell_type": "markdown",
      "source": [
        "Алгоритм построениея FOLLOW строит для каждого нетерминала грамматики Γ=⟨Σ,N,S,P⟩ отображение в множество символов"
      ],
      "metadata": {
        "id": "TDHyKdeOvTgA"
      }
    },
    {
      "cell_type": "code",
      "source": [
        "def FIRST(grammar, symbol):\n",
        "    tokens = grammar['toks']\n",
        "    variables = grammar['vars']\n",
        "    result = set()\n",
        "    for rule in variables[symbol]:\n",
        "        if rule[0] in tokens:\n",
        "            result.add(rule[0])\n",
        "        else:\n",
        "            result |= FIRST(grammar, rule[0])\n",
        "    return result"
      ],
      "metadata": {
        "id": "Os5u6WEqvbfU"
      },
      "execution_count": null,
      "outputs": []
    },
    {
      "cell_type": "code",
      "source": [
        "def FOLLOW(grammar, symbol):\n",
        "    tokens = grammar['toks']\n",
        "    variables = grammar['vars']\n",
        "    useful_vars = []\n",
        "    for nt, val in variables.items():\n",
        "        for rule in val:\n",
        "            if symbol in rule:\n",
        "                useful_vars.append((nt, rule))\n",
        "\n",
        "    result = set()\n",
        "    for p in useful_vars:\n",
        "        lhs, rhs = p\n",
        "        idx = rhs.index(symbol)\n",
        "        if idx + 1 < len(rhs):\n",
        "            next_symbol = rhs[idx + 1]\n",
        "            if next_symbol in tokens:\n",
        "                result.add(next_symbol)\n",
        "            else:\n",
        "                result |= FIRST(grammar, next_symbol)\n",
        "        else:\n",
        "            if lhs != symbol:\n",
        "                result |= FOLLOW(grammar, lhs)\n",
        "    return result"
      ],
      "metadata": {
        "id": "Crnv-DIgvsD7"
      },
      "execution_count": null,
      "outputs": []
    },
    {
      "cell_type": "code",
      "source": [
        "grammar = {\n",
        "    'toks': {(0, 'a'), (1, 'b'), (2, 'c'), (3, 'd'), (4, 'f'), (5, 'g'), (6, 'h'), (7, 'e')},\n",
        "    'vars': {\n",
        "        'A': [[(0, 'a'), 'B', 'C', (6, 'h')]],\n",
        "        'B': [[(2, 'c'), 'C']],\n",
        "        'C': [[(1, 'b'), 'D']],\n",
        "        'D': [['C', 'F']],\n",
        "        'E': [[(5, 'g')], [(7, 'e')]],\n",
        "        'F': [[(4, 'f')], [(6, 'h')]],\n",
        "    },\n",
        "    'hvar': 'A',\n",
        "}\n",
        "\n",
        "print(FIRST(grammar, 'C'))\n",
        "print(FOLLOW(grammar, 'C'))"
      ],
      "metadata": {
        "id": "XRaV9aOlvsrz"
      },
      "execution_count": null,
      "outputs": []
    }
  ]
}