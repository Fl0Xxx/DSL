{
  "nbformat": 4,
  "nbformat_minor": 0,
  "metadata": {
    "colab": {
      "name": "job #1.ipynb",
      "provenance": [],
      "collapsed_sections": [],
      "authorship_tag": "ABX9TyPtp/bM4jpDbsobN5wOwmio",
      "include_colab_link": true
    },
    "kernelspec": {
      "name": "python3",
      "display_name": "Python 3"
    },
    "language_info": {
      "name": "python"
    }
  },
  "cells": [
    {
      "cell_type": "markdown",
      "metadata": {
        "id": "view-in-github",
        "colab_type": "text"
      },
      "source": [
        "<a href=\"https://colab.research.google.com/github/Fl0Xxx/DSL/blob/main/job%20%231/job_1.ipynb\" target=\"_parent\"><img src=\"https://colab.research.google.com/assets/colab-badge.svg\" alt=\"Open In Colab\"/></a>"
      ]
    },
    {
      "cell_type": "markdown",
      "metadata": {
        "id": "oYRQ8OfUbkG4"
      },
      "source": [
        "Global variable \"whitespaces\" that contains all delimiters."
      ]
    },
    {
      "cell_type": "code",
      "metadata": {
        "id": "_Z2y-ksQbiWu"
      },
      "source": [
        "whitespaces = [';', '\\n', '0']\n"
      ],
      "execution_count": null,
      "outputs": []
    },
    {
      "cell_type": "markdown",
      "metadata": {
        "id": "rDL_hYUsb9vw"
      },
      "source": [
        "A function that allows you to open a file in read mode and returns the contents of the file."
      ]
    },
    {
      "cell_type": "code",
      "metadata": {
        "id": "wWgsm6Vmb8k5"
      },
      "source": [
        "def get_text(file):\n",
        "    try:\n",
        "        f = open(file, \"r\")\n",
        "        text = f.read()\n",
        "        f.close()\n",
        "        return text\n",
        "    except Exception:\n",
        "        print(\"Unable to open file\")"
      ],
      "execution_count": null,
      "outputs": []
    },
    {
      "cell_type": "markdown",
      "metadata": {
        "id": "wGOqCTs0cV4D"
      },
      "source": [
        "Function \"parseWhitespaces\" contains an internal function \"checkWhiteSpace\" that is used to check if a character is a delimiter.\n",
        "The function initializes an empty array \"tokens\", where all tokens from the file will be stored, without separators. The function will also contain the current word in the \"token\" variable. Next, the function reads each character of the text received from the file and checks if it is a separator using function \"checkWhiteSpace\". If the character is a separator, then the variable token is added to the token list and cleared, if not, then the character is added to the current token."
      ]
    },
    {
      "cell_type": "code",
      "metadata": {
        "id": "6BbIqOJzcLOL"
      },
      "source": [
        "def parseWhitespaces(text):\n",
        "    def checkWhiteSpace(symbol):\n",
        "        for i in whitespaces:\n",
        "            if i == symbol:\n",
        "                return True\n",
        "        return False\n",
        "    \n",
        "    text = get_text('text.txt')\n",
        "    tokens = []\n",
        "    token = \"\"\n",
        "    for symbol in text:\n",
        "        if checkWhiteSpace(symbol):\n",
        "            if len(token) > 0:\n",
        "                tokens.append(token)\n",
        "            token = \"\"\n",
        "        else:\n",
        "            token = token + symbol\n",
        "    if len(token) > 0:\n",
        "        tokens.append(token)\n",
        "    return tokens"
      ],
      "execution_count": null,
      "outputs": []
    },
    {
      "cell_type": "markdown",
      "metadata": {
        "id": "fvWM2QzXe2wH"
      },
      "source": [
        "Function call:"
      ]
    },
    {
      "cell_type": "code",
      "metadata": {
        "id": "Bu2e9iOde4Qj"
      },
      "source": [
        "print(parseWhitespaces('text.txt'))"
      ],
      "execution_count": null,
      "outputs": []
    }
  ]
}